{
 "cells": [
  {
   "cell_type": "code",
   "execution_count": null,
   "id": "0e4c6cc1-947c-4300-b7ba-a30c394107e9",
   "metadata": {},
   "outputs": [],
   "source": [
    "import os\n",
    "import shutil\n",
    "\n",
    "def organize_files(folder_path):\n",
    "    for filename in os.listdir(folder_path):\n",
    "        file_path = os.path.join(folder_path, filename)\n",
    "        if os.path.isfile(file_path):\n",
    "            _, ext = os.path.splitext(filename)\n",
    "            ext = ext[1:].upper()  # Remove '.' and capitalize\n",
    "            if not ext:\n",
    "                continue\n",
    "            dest_folder = os.path.join(folder_path, ext)\n",
    "            os.makedirs(dest_folder, exist_ok=True)\n",
    "            shutil.move(file_path, os.path.join(dest_folder, filename))\n",
    "\n",
    "# ✅ Use raw string (r\"...\") to avoid escape issues\n",
    "organize_files(r\"C:\\Users\\nithy\\Downloads\")"
   ]
  },
  {
   "cell_type": "code",
   "execution_count": null,
   "id": "68f7bd27-8202-40bf-8882-20fe5a9a69b5",
   "metadata": {},
   "outputs": [],
   "source": []
  }
 ],
 "metadata": {
  "kernelspec": {
   "display_name": "",
   "name": ""
  },
  "language_info": {
   "name": ""
  }
 },
 "nbformat": 4,
 "nbformat_minor": 5
}
