{
 "cells": [
  {
   "cell_type": "code",
   "execution_count": 14,
   "id": "94433443-a9b9-410c-9be1-2b852e2c6418",
   "metadata": {},
   "outputs": [],
   "source": [
    "import numpy as np"
   ]
  },
  {
   "cell_type": "code",
   "execution_count": 15,
   "id": "35aefec5-4007-46a1-83a1-c67aee465efe",
   "metadata": {},
   "outputs": [],
   "source": [
    "import pandas as pd"
   ]
  },
  {
   "cell_type": "code",
   "execution_count": 16,
   "id": "415deb33-42ce-4281-8451-cb9a82018aa7",
   "metadata": {},
   "outputs": [],
   "source": [
    "np.random.seed(42)"
   ]
  },
  {
   "cell_type": "code",
   "execution_count": 17,
   "id": "67dd93cb-390b-455a-b9cc-185b693a3cb7",
   "metadata": {},
   "outputs": [],
   "source": [
    "employee_ids=[f\"EMP_{i:03d}\"for i in range(1,31)]\n",
    "dates=pd.date_range(\"2025-07-01\",periods=30,freq=\"D\")"
   ]
  },
  {
   "cell_type": "code",
   "execution_count": 18,
   "id": "c60d040b-e691-4c8b-a51f-4250131aa5df",
   "metadata": {},
   "outputs": [
    {
     "data": {
      "text/plain": [
       "['EMP_001',\n",
       " 'EMP_002',\n",
       " 'EMP_003',\n",
       " 'EMP_004',\n",
       " 'EMP_005',\n",
       " 'EMP_006',\n",
       " 'EMP_007',\n",
       " 'EMP_008',\n",
       " 'EMP_009',\n",
       " 'EMP_010',\n",
       " 'EMP_011',\n",
       " 'EMP_012',\n",
       " 'EMP_013',\n",
       " 'EMP_014',\n",
       " 'EMP_015',\n",
       " 'EMP_016',\n",
       " 'EMP_017',\n",
       " 'EMP_018',\n",
       " 'EMP_019',\n",
       " 'EMP_020',\n",
       " 'EMP_021',\n",
       " 'EMP_022',\n",
       " 'EMP_023',\n",
       " 'EMP_024',\n",
       " 'EMP_025',\n",
       " 'EMP_026',\n",
       " 'EMP_027',\n",
       " 'EMP_028',\n",
       " 'EMP_029',\n",
       " 'EMP_030']"
      ]
     },
     "execution_count": 18,
     "metadata": {},
     "output_type": "execute_result"
    }
   ],
   "source": [
    "employee_ids"
   ]
  },
  {
   "cell_type": "code",
   "execution_count": 20,
   "id": "e320ed36-5a71-4e18-a949-5cd1b147af04",
   "metadata": {},
   "outputs": [],
   "source": [
    "data={\n",
    "    \"Data\":np.tile(dates,len(employee_ids)),\n",
    "    \"Employee_ID\":np.repeat(employee_ids,len(dates)),\n",
    "    \"Working_Hours\":np.random.uniform(4,10,size=len(dates)*len(employee_ids)).round(2)\n",
    "}"
   ]
  },
  {
   "cell_type": "code",
   "execution_count": 21,
   "id": "42e249c3-9887-465f-84b6-3e7e12029b12",
   "metadata": {},
   "outputs": [],
   "source": [
    "df=pd.DataFrame(data)"
   ]
  },
  {
   "cell_type": "code",
   "execution_count": 38,
   "id": "796a3fe3-5a39-4e58-927f-a611728a5c76",
   "metadata": {},
   "outputs": [
    {
     "data": {
      "text/plain": [
       "Data             2025-07-03 00:00:00\n",
       "Employee_ID                  EMP_001\n",
       "Working_Hours                   8.39\n",
       "Name: 2, dtype: object"
      ]
     },
     "execution_count": 38,
     "metadata": {},
     "output_type": "execute_result"
    }
   ],
   "source": [
    "row=df.iloc[2]\n",
    "row"
   ]
  },
  {
   "cell_type": "code",
   "execution_count": 23,
   "id": "50c03773-3266-4ffb-96db-aa676bc27f68",
   "metadata": {},
   "outputs": [],
   "source": [
    "df.to_csv(\"employee_working_hours.csv\",index=False)"
   ]
  },
  {
   "cell_type": "code",
   "execution_count": 24,
   "id": "37785775-95ab-4116-b7d8-3038ecd5371b",
   "metadata": {},
   "outputs": [],
   "source": [
    "#Read from CSV\n",
    "df_csv=pd.read_csv(\"employee_working_hours.csv\")"
   ]
  },
  {
   "cell_type": "code",
   "execution_count": 25,
   "id": "75c4a9dd-6d21-44b7-9086-b19b59bfd7f1",
   "metadata": {},
   "outputs": [
    {
     "name": "stdout",
     "output_type": "stream",
     "text": [
      "         Data Employee_ID  Working_Hours\n",
      "0  2025-07-01     EMP_001           6.25\n",
      "1  2025-07-02     EMP_001           9.70\n",
      "2  2025-07-03     EMP_001           8.39\n",
      "3  2025-07-04     EMP_001           7.59\n",
      "4  2025-07-05     EMP_001           4.94\n",
      "       Working_Hours\n",
      "count     900.000000\n",
      "mean        6.954233\n",
      "std         1.762088\n",
      "min         4.030000\n",
      "25%         5.387500\n",
      "50%         7.010000\n",
      "75%         8.490000\n",
      "max        10.000000\n",
      "30\n"
     ]
    }
   ],
   "source": [
    "print(df_csv.head())\n",
    "print(df_csv.describe())\n",
    "print(df_csv[\"Employee_ID\"].nunique())"
   ]
  },
  {
   "cell_type": "code",
   "execution_count": 27,
   "id": "f5525585-16ce-4f6b-a4fa-7f9ea84b2dfa",
   "metadata": {},
   "outputs": [],
   "source": [
    "#Total hours per employee\n",
    "total_hours=df_csv.groupby(\"Employee_ID\")[\"Working_Hours\"].sum().sort_values(ascending=False)"
   ]
  },
  {
   "cell_type": "code",
   "execution_count": 28,
   "id": "ff4a8d8d-8ce6-4265-a706-91e88aa21c33",
   "metadata": {},
   "outputs": [
    {
     "data": {
      "text/plain": [
       "Employee_ID\n",
       "EMP_009    228.84\n",
       "EMP_018    226.10\n",
       "EMP_017    225.95\n",
       "EMP_014    224.92\n",
       "EMP_027    220.85\n",
       "EMP_025    214.07\n",
       "EMP_026    212.33\n",
       "EMP_016    211.56\n",
       "EMP_007    210.91\n",
       "EMP_010    210.88\n",
       "EMP_008    210.81\n",
       "EMP_011    210.77\n",
       "EMP_028    209.51\n",
       "EMP_019    209.42\n",
       "EMP_002    209.37\n",
       "EMP_004    208.46\n",
       "EMP_013    207.72\n",
       "EMP_003    206.79\n",
       "EMP_015    206.67\n",
       "EMP_024    204.46\n",
       "EMP_006    204.29\n",
       "EMP_023    203.64\n",
       "EMP_005    202.07\n",
       "EMP_022    200.73\n",
       "EMP_020    199.91\n",
       "EMP_029    199.89\n",
       "EMP_001    198.96\n",
       "EMP_012    196.52\n",
       "EMP_021    192.18\n",
       "EMP_030    190.23\n",
       "Name: Working_Hours, dtype: float64"
      ]
     },
     "execution_count": 28,
     "metadata": {},
     "output_type": "execute_result"
    }
   ],
   "source": [
    "total_hours"
   ]
  },
  {
   "cell_type": "code",
   "execution_count": 29,
   "id": "a6939b9a-1176-48ff-91e3-509dca8b816c",
   "metadata": {},
   "outputs": [],
   "source": [
    "avg_daily=df_csv.groupby(\"Employee_ID\")[\"Working_Hours\"].mean()"
   ]
  },
  {
   "cell_type": "code",
   "execution_count": 30,
   "id": "06fb2748-9b57-4dc1-87f5-5a18b2c4cfdb",
   "metadata": {},
   "outputs": [],
   "source": [
    "threshold_low=5\n",
    "threshold_high=9\n",
    "df_csv[\"Low_Hour_Flag\"]=df_csv[\"Working_Hours\"]<threshold_low\n",
    "df_csv[\"High_Hour_Flag\"]=df_csv[\"Working_Hours\"]>threshold_high"
   ]
  },
  {
   "cell_type": "code",
   "execution_count": 32,
   "id": "62d56473-26ef-4ef6-b447-15707240ec9f",
   "metadata": {},
   "outputs": [
    {
     "name": "stdout",
     "output_type": "stream",
     "text": [
      "         Data Employee_ID  Working_Hours  Low_Hour_Flag  High_Hour_Flag\n",
      "1  2025-07-02     EMP_001           9.70          False            True\n",
      "4  2025-07-05     EMP_001           4.94           True           False\n",
      "5  2025-07-06     EMP_001           4.94           True           False\n",
      "6  2025-07-07     EMP_001           4.35           True           False\n",
      "7  2025-07-08     EMP_001           9.20          False            True\n"
     ]
    }
   ],
   "source": [
    "#view flagged rows\n",
    "print(df_csv[df_csv[\"Low_Hour_Flag\"]|df_csv[\"High_Hour_Flag\"]].head())"
   ]
  },
  {
   "cell_type": "code",
   "execution_count": 35,
   "id": "0f639f02-efb8-4d35-942d-52ba68091b9a",
   "metadata": {},
   "outputs": [
    {
     "data": {
      "image/png": "[encoded data removed]",
      "text/plain": [
       "<Figure size 1000x500 with 1 Axes>"
      ]
     },
     "metadata": {},
     "output_type": "display_data"
    }
   ],
   "source": [
    "import matplotlib.pyplot as plt\n",
    "import seaborn as sns\n",
    "#Bar chart oc top 10 employee with highest total hour\n",
    "top10=total_hours.head(10)\n",
    "plt.figure(figsize=(10,5))\n",
    "sns.barplot(x=top10.index,y=top10.values)\n",
    "plt.xticks(rotation=45)\n",
    "plt.title(\"Top 10 Employee by Total working hours\")\n",
    "plt.ylabel(\"Hours\")\n",
    "plt.tight_layout()\n",
    "plt.show()"
   ]
  },
  {
   "cell_type": "code",
   "execution_count": 37,
   "id": "030bbfb6-a7aa-4c06-b9f0-bed33ed59b1f",
   "metadata": {},
   "outputs": [
    {
     "ename": "KeyError",
     "evalue": "'EMP_001'",
     "output_type": "error",
     "traceback": [
      "\u001b[1;31m---------------------------------------------------------------------------\u001b[0m",
      "\u001b[1;31mKeyError\u001b[0m                                  Traceback (most recent call last)",
      "Cell \u001b[1;32mIn[37], line 1\u001b[0m\n\u001b[1;32m----> 1\u001b[0m row\u001b[38;5;241m=\u001b[39mdf_csv\u001b[38;5;241m.\u001b[39mloc[\u001b[38;5;124m\"\u001b[39m\u001b[38;5;124mEMP_001\u001b[39m\u001b[38;5;124m\"\u001b[39m]\n",
      "File \u001b[1;32mC:\\ProgramData\\anaconda3\\Lib\\site-packages\\pandas\\core\\indexing.py:1191\u001b[0m, in \u001b[0;36m_LocationIndexer.__getitem__\u001b[1;34m(self, key)\u001b[0m\n\u001b[0;32m   1189\u001b[0m maybe_callable \u001b[38;5;241m=\u001b[39m com\u001b[38;5;241m.\u001b[39mapply_if_callable(key, \u001b[38;5;28mself\u001b[39m\u001b[38;5;241m.\u001b[39mobj)\n\u001b[0;32m   1190\u001b[0m maybe_callable \u001b[38;5;241m=\u001b[39m \u001b[38;5;28mself\u001b[39m\u001b[38;5;241m.\u001b[39m_check_deprecated_callable_usage(key, maybe_callable)\n\u001b[1;32m-> 1191\u001b[0m \u001b[38;5;28;01mreturn\u001b[39;00m \u001b[38;5;28mself\u001b[39m\u001b[38;5;241m.\u001b[39m_getitem_axis(maybe_callable, axis\u001b[38;5;241m=\u001b[39maxis)\n",
      "File \u001b[1;32mC:\\ProgramData\\anaconda3\\Lib\\site-packages\\pandas\\core\\indexing.py:1431\u001b[0m, in \u001b[0;36m_LocIndexer._getitem_axis\u001b[1;34m(self, key, axis)\u001b[0m\n\u001b[0;32m   1429\u001b[0m \u001b[38;5;66;03m# fall thru to straight lookup\u001b[39;00m\n\u001b[0;32m   1430\u001b[0m \u001b[38;5;28mself\u001b[39m\u001b[38;5;241m.\u001b[39m_validate_key(key, axis)\n\u001b[1;32m-> 1431\u001b[0m \u001b[38;5;28;01mreturn\u001b[39;00m \u001b[38;5;28mself\u001b[39m\u001b[38;5;241m.\u001b[39m_get_label(key, axis\u001b[38;5;241m=\u001b[39maxis)\n",
      "File \u001b[1;32mC:\\ProgramData\\anaconda3\\Lib\\site-packages\\pandas\\core\\indexing.py:1381\u001b[0m, in \u001b[0;36m_LocIndexer._get_label\u001b[1;34m(self, label, axis)\u001b[0m\n\u001b[0;32m   1379\u001b[0m \u001b[38;5;28;01mdef\u001b[39;00m\u001b[38;5;250m \u001b[39m\u001b[38;5;21m_get_label\u001b[39m(\u001b[38;5;28mself\u001b[39m, label, axis: AxisInt):\n\u001b[0;32m   1380\u001b[0m     \u001b[38;5;66;03m# GH#5567 this will fail if the label is not present in the axis.\u001b[39;00m\n\u001b[1;32m-> 1381\u001b[0m     \u001b[38;5;28;01mreturn\u001b[39;00m \u001b[38;5;28mself\u001b[39m\u001b[38;5;241m.\u001b[39mobj\u001b[38;5;241m.\u001b[39mxs(label, axis\u001b[38;5;241m=\u001b[39maxis)\n",
      "File \u001b[1;32mC:\\ProgramData\\anaconda3\\Lib\\site-packages\\pandas\\core\\generic.py:4301\u001b[0m, in \u001b[0;36mNDFrame.xs\u001b[1;34m(self, key, axis, level, drop_level)\u001b[0m\n\u001b[0;32m   4299\u001b[0m             new_index \u001b[38;5;241m=\u001b[39m index[loc]\n\u001b[0;32m   4300\u001b[0m \u001b[38;5;28;01melse\u001b[39;00m:\n\u001b[1;32m-> 4301\u001b[0m     loc \u001b[38;5;241m=\u001b[39m index\u001b[38;5;241m.\u001b[39mget_loc(key)\n\u001b[0;32m   4303\u001b[0m     \u001b[38;5;28;01mif\u001b[39;00m \u001b[38;5;28misinstance\u001b[39m(loc, np\u001b[38;5;241m.\u001b[39mndarray):\n\u001b[0;32m   4304\u001b[0m         \u001b[38;5;28;01mif\u001b[39;00m loc\u001b[38;5;241m.\u001b[39mdtype \u001b[38;5;241m==\u001b[39m np\u001b[38;5;241m.\u001b[39mbool_:\n",
      "File \u001b[1;32mC:\\ProgramData\\anaconda3\\Lib\\site-packages\\pandas\\core\\indexes\\range.py:417\u001b[0m, in \u001b[0;36mRangeIndex.get_loc\u001b[1;34m(self, key)\u001b[0m\n\u001b[0;32m    415\u001b[0m         \u001b[38;5;28;01mraise\u001b[39;00m \u001b[38;5;167;01mKeyError\u001b[39;00m(key) \u001b[38;5;28;01mfrom\u001b[39;00m\u001b[38;5;250m \u001b[39m\u001b[38;5;21;01merr\u001b[39;00m\n\u001b[0;32m    416\u001b[0m \u001b[38;5;28;01mif\u001b[39;00m \u001b[38;5;28misinstance\u001b[39m(key, Hashable):\n\u001b[1;32m--> 417\u001b[0m     \u001b[38;5;28;01mraise\u001b[39;00m \u001b[38;5;167;01mKeyError\u001b[39;00m(key)\n\u001b[0;32m    418\u001b[0m \u001b[38;5;28mself\u001b[39m\u001b[38;5;241m.\u001b[39m_check_indexing_error(key)\n\u001b[0;32m    419\u001b[0m \u001b[38;5;28;01mraise\u001b[39;00m \u001b[38;5;167;01mKeyError\u001b[39;00m(key)\n",
      "\u001b[1;31mKeyError\u001b[0m: 'EMP_001'"
     ]
    }
   ],
   "source": [
    "row=df_csv.loc[\"EMP_001\"]"
   ]
  },
  {
   "cell_type": "code",
   "execution_count": null,
   "id": "585fa6ad-fa69-46e7-96fe-75c2895ee6bf",
   "metadata": {},
   "outputs": [],
   "source": []
  }
 ],
 "metadata": {
  "kernelspec": {
   "display_name": "Python [conda env:base] *",
   "language": "python",
   "name": "conda-base-py"
  },
  "language_info": {
   "codemirror_mode": {
    "name": "ipython",
    "version": 3
   },
   "file_extension": ".py",
   "mimetype": "text/x-python",
   "name": "python",
   "nbconvert_exporter": "python",
   "pygments_lexer": "ipython3",
   "version": "3.13.5"
  }
 },
 "nbformat": 4,
 "nbformat_minor": 5
}
