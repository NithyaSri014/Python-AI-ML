{
 "cells": [
  {
   "cell_type": "code",
   "execution_count": 10,
   "id": "9364678e-4cc6-42a9-ad32-c6d92cfa125e",
   "metadata": {},
   "outputs": [],
   "source": [
    "import numpy as np"
   ]
  },
  {
   "cell_type": "code",
   "execution_count": 11,
   "id": "547a3967-862e-458e-a690-a134baebc122",
   "metadata": {},
   "outputs": [
    {
     "name": "stdin",
     "output_type": "stream",
     "text": [
      "Enter number of test cases: 1\n"
     ]
    }
   ],
   "source": [
    "t=int(input(\"Enter number of test cases:\"))"
   ]
  },
  {
   "cell_type": "code",
   "execution_count": 13,
   "id": "f2de8556-291e-41df-a194-b2ff5409c415",
   "metadata": {},
   "outputs": [
    {
     "name": "stdin",
     "output_type": "stream",
     "text": [
      "Enter space-separated integers for test case 1:   0 0 3 0 2 4 2 2 2 2\n"
     ]
    }
   ],
   "source": [
    "for test in range(t):\n",
    "    # Input numpy array\n",
    "    arr = np.array(list(map(int, input(f\"Enter space-separated integers for test case {test + 1}: \").split())))\n",
    "\n",
    "    # Use np.unique to find first occurrence indices\n",
    "    _, first_indices = np.unique(arr, return_index=True)\n",
    "\n",
    "    # Initialize all to True, meaning all are considered duplicates initially\n",
    "    is_duplicate = np.full(arr.shape, True, dtype=bool)\n",
    "\n",
    "    # Set first occurrences to False\n",
    "    is_duplicate[first_indices]=False"
   ]
  },
  {
   "cell_type": "code",
   "execution_count": 14,
   "id": "e3bc1ca9-a23f-4c6c-a9eb-440dd8338cd1",
   "metadata": {},
   "outputs": [
    {
     "name": "stdout",
     "output_type": "stream",
     "text": [
      "[False  True False  True False False  True  True  True  True]\n"
     ]
    }
   ],
   "source": [
    "print (is_duplicate)"
   ]
  },
  {
   "cell_type": "code",
   "execution_count": null,
   "id": "11928a9f-b516-4826-9071-a1ec358661d2",
   "metadata": {},
   "outputs": [],
   "source": []
  }
 ],
 "metadata": {
  "kernelspec": {
   "display_name": "Python [conda env:base] *",
   "language": "python",
   "name": "conda-base-py"
  },
  "language_info": {
   "codemirror_mode": {
    "name": "ipython",
    "version": 3
   },
   "file_extension": ".py",
   "mimetype": "text/x-python",
   "name": "python",
   "nbconvert_exporter": "python",
   "pygments_lexer": "ipython3",
   "version": "3.13.5"
  }
 },
 "nbformat": 4,
 "nbformat_minor": 5
}
