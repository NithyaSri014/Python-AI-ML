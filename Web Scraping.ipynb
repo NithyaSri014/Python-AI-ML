{
 "cells": [
  {
   "cell_type": "code",
   "execution_count": 3,
   "id": "11e3a644-bca6-4ebe-965a-e6759946f04a",
   "metadata": {},
   "outputs": [
    {
     "name": "stdout",
     "output_type": "stream",
     "text": [
      "Title: A Light in the Attic\n",
      "Price: Â£51.77\n",
      "\n",
      "Title: Tipping the Velvet\n",
      "Price: Â£53.74\n",
      "\n",
      "Title: Soumission\n",
      "Price: Â£50.10\n",
      "\n",
      "Title: Sharp Objects\n",
      "Price: Â£47.82\n",
      "\n",
      "Title: Sapiens: A Brief History of Humankind\n",
      "Price: Â£54.23\n",
      "\n",
      "Title: The Requiem Red\n",
      "Price: Â£22.65\n",
      "\n",
      "Title: The Dirty Little Secrets of Getting Your Dream Job\n",
      "Price: Â£33.34\n",
      "\n",
      "Title: The Coming Woman: A Novel Based on the Life of the Infamous Feminist, Victoria Woodhull\n",
      "Price: Â£17.93\n",
      "\n",
      "Title: The Boys in the Boat: Nine Americans and Their Epic Quest for Gold at the 1936 Berlin Olympics\n",
      "Price: Â£22.60\n",
      "\n",
      "Title: The Black Maria\n",
      "Price: Â£52.15\n",
      "\n",
      "Title: Starving Hearts (Triangular Trade Trilogy, #1)\n",
      "Price: Â£13.99\n",
      "\n",
      "Title: Shakespeare's Sonnets\n",
      "Price: Â£20.66\n",
      "\n",
      "Title: Set Me Free\n",
      "Price: Â£17.46\n",
      "\n",
      "Title: Scott Pilgrim's Precious Little Life (Scott Pilgrim #1)\n",
      "Price: Â£52.29\n",
      "\n",
      "Title: Rip it Up and Start Again\n",
      "Price: Â£35.02\n",
      "\n",
      "Title: Our Band Could Be Your Life: Scenes from the American Indie Underground, 1981-1991\n",
      "Price: Â£57.25\n",
      "\n",
      "Title: Olio\n",
      "Price: Â£23.88\n",
      "\n",
      "Title: Mesaerion: The Best Science Fiction Stories 1800-1849\n",
      "Price: Â£37.59\n",
      "\n",
      "Title: Libertarianism for Beginners\n",
      "Price: Â£51.33\n",
      "\n",
      "Title: It's Only the Himalayas\n",
      "Price: Â£45.17\n",
      "\n"
     ]
    }
   ],
   "source": [
    "import requests\n",
    "import pandas as pd\n",
    "from bs4 import BeautifulSoup\n",
    "url = \"http://books.toscrape.com\"\n",
    "response = requests.get(url)\n",
    "soup = BeautifulSoup(response.text, 'html.parser')\n",
    "books = soup.find_all('article', class_='product_pod')\n",
    "for book in books:\n",
    "    title = book.h3.a['title']\n",
    "    price = book.find('p', class_='price_color').text\n",
    "    print(f\"Title: {title}\\nPrice: {price}\\n\")"
   ]
  },
  {
   "cell_type": "code",
   "execution_count": 4,
   "id": "a7360b25-bcad-4a99-bf3f-11d26798d8ad",
   "metadata": {},
   "outputs": [
    {
     "name": "stdout",
     "output_type": "stream",
     "text": [
      "                                              0\n",
      "0                                            \\n\n",
      "1                                [\\n, [[]], \\n]\n",
      "2                                            \\n\n",
      "3  [\\n, [], \\n, [], \\n, [], \\n, [], \\n, [], \\n]\n",
      "4                                            \\n\n"
     ]
    }
   ],
   "source": [
    "df = pd.DataFrame(book)\n",
    "print(df.head())"
   ]
  },
  {
   "cell_type": "code",
   "execution_count": 5,
   "id": "d676ab24-f343-4a08-9a7c-6d44b9bd6767",
   "metadata": {},
   "outputs": [
    {
     "ename": "SyntaxError",
     "evalue": "invalid non-printable character U+00A0 (1726594759.py, line 8)",
     "output_type": "error",
     "traceback": [
      "\u001b[1;36m  Cell \u001b[1;32mIn[5], line 8\u001b[1;36m\u001b[0m\n\u001b[1;33m    book_data.append({\"Title\": title, \"Price\":price})\u001b[0m\n\u001b[1;37m                                     ^\u001b[0m\n\u001b[1;31mSyntaxError\u001b[0m\u001b[1;31m:\u001b[0m invalid non-printable character U+00A0\n"
     ]
    }
   ],
   "source": [
    "book_data = []\n",
    "books = soup.find_all('article', class_='product_pod')\n",
    "\n",
    "for book in books:\n",
    "    title = book.h3.a['title']\n",
    "    price = book.find('p', class_='price_color').text\n",
    "    print(f\"Title: {title}\\nPrice: {price}\\n\")\n",
    "    book_data.append({\"Title\": title, \"Price\":price})"
   ]
  },
  {
   "cell_type": "code",
   "execution_count": null,
   "id": "e45f8cd2-04e1-4e4e-863e-ed2549c4daaa",
   "metadata": {},
   "outputs": [],
   "source": []
  }
 ],
 "metadata": {
  "kernelspec": {
   "display_name": "Python [conda env:base] *",
   "language": "python",
   "name": "conda-base-py"
  },
  "language_info": {
   "codemirror_mode": {
    "name": "ipython",
    "version": 3
   },
   "file_extension": ".py",
   "mimetype": "text/x-python",
   "name": "python",
   "nbconvert_exporter": "python",
   "pygments_lexer": "ipython3",
   "version": "3.13.5"
  }
 },
 "nbformat": 4,
 "nbformat_minor": 5
}
